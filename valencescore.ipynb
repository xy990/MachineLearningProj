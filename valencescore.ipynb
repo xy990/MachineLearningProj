{
 "cells": [
  {
   "cell_type": "code",
   "execution_count": 1,
   "metadata": {
    "collapsed": false
   },
   "outputs": [
    {
     "name": "stderr",
     "output_type": "stream",
     "text": [
      "C:\\Users\\sherryyang\\Anaconda3\\lib\\site-packages\\sklearn\\cross_validation.py:44: DeprecationWarning: This module was deprecated in version 0.18 in favor of the model_selection module into which all the refactored classes and functions are moved. Also note that the interface of the new CV iterators are different from that of this module. This module will be removed in 0.20.\n",
      "  \"This module will be removed in 0.20.\", DeprecationWarning)\n",
      "C:\\Users\\sherryyang\\Anaconda3\\lib\\site-packages\\sklearn\\grid_search.py:43: DeprecationWarning: This module was deprecated in version 0.18 in favor of the model_selection module into which all the refactored classes and functions are moved. This module will be removed in 0.20.\n",
      "  DeprecationWarning)\n"
     ]
    },
    {
     "data": {
      "text/plain": [
       "array(['0', '0.0', '101.0', '102.0', '103.0', '104.0', '105.0', '106.0',\n",
       "       '107.0', '108.0', '109', '109.0', '110.0', '201.0', '202', '202.0',\n",
       "       '203', '203.0', '204.0', '301', '301.0', '302.0', '303', '303.0',\n",
       "       '304.0', '305', '305.0', '305.1', '401', '401.0', '402', '402.0',\n",
       "       '403.0', '404', '404.0', '405.0', '406', '406.0', '407.0', '408',\n",
       "       '408.0', '409', '409.0', '410', '410.0', '411', '411.0', '412',\n",
       "       '412.0', '413', '413.0', '414', '414.0', '415', '415.0', '416',\n",
       "       '416.0', '501', '501.0', '502', '502.0', '503', '503.0', '504',\n",
       "       '504.0', '505.0', '506', '506.0', '507.0', '601.0', '602.0', '603',\n",
       "       '603.0', '604.0', '605', '605.0', '605.1', '606.0', '607', '607.0',\n",
       "       '607.1', '608.0', '701', '701.0', '702', '702.0', '703.0', '704.0',\n",
       "       '705.0', '706', '706.0', 'H'], dtype=object)"
      ]
     },
     "execution_count": 1,
     "metadata": {},
     "output_type": "execute_result"
    }
   ],
   "source": [
    "import pandas as pd\n",
    "import numpy as np\n",
    "from sklearn.cross_validation import train_test_split\n",
    "from sklearn.utils import shuffle\n",
    "from sklearn.svm import LinearSVC\n",
    "from sklearn.grid_search import GridSearchCV\n",
    "\n",
    "data = pd.read_csv(\"new_annotated.csv\",sep = '\\t', encoding=\"latin-1\",)\n",
    "\n",
    "data = data[['cmp_code', 'text']]\n",
    "data = shuffle(data)\n",
    "X = data['text']\n",
    "Y = data['cmp_code']\n",
    "data.head()\n",
    "np.unique(data['cmp_code'])"
   ]
  },
  {
   "cell_type": "code",
   "execution_count": 3,
   "metadata": {
    "collapsed": false
   },
   "outputs": [
    {
     "data": {
      "text/html": [
       "<div>\n",
       "<table border=\"1\" class=\"dataframe\">\n",
       "  <thead>\n",
       "    <tr style=\"text-align: right;\">\n",
       "      <th></th>\n",
       "      <th>cmp_code</th>\n",
       "      <th>text</th>\n",
       "    </tr>\n",
       "  </thead>\n",
       "  <tbody>\n",
       "    <tr>\n",
       "      <th>35516</th>\n",
       "      <td>403.0</td>\n",
       "      <td>and to reduce costs significantly for consumer...</td>\n",
       "    </tr>\n",
       "    <tr>\n",
       "      <th>5549</th>\n",
       "      <td>706.0</td>\n",
       "      <td>ï Put in place a 10 per cent  student-loan  ...</td>\n",
       "    </tr>\n",
       "    <tr>\n",
       "      <th>26717</th>\n",
       "      <td>303.0</td>\n",
       "      <td>in the first instance, this process would be l...</td>\n",
       "    </tr>\n",
       "    <tr>\n",
       "      <th>49998</th>\n",
       "      <td>413.0</td>\n",
       "      <td>No sales of strategic assets.</td>\n",
       "    </tr>\n",
       "    <tr>\n",
       "      <th>35193</th>\n",
       "      <td>0.0</td>\n",
       "      <td>Encourage financial institutions to provide Eu...</td>\n",
       "    </tr>\n",
       "  </tbody>\n",
       "</table>\n",
       "</div>"
      ],
      "text/plain": [
       "      cmp_code                                               text\n",
       "35516    403.0  and to reduce costs significantly for consumer...\n",
       "5549     706.0  ï Put in place a 10 per cent  student-loan  ...\n",
       "26717    303.0  in the first instance, this process would be l...\n",
       "49998    413.0                      No sales of strategic assets.\n",
       "35193      0.0  Encourage financial institutions to provide Eu..."
      ]
     },
     "execution_count": 3,
     "metadata": {},
     "output_type": "execute_result"
    }
   ],
   "source": [
    "data.head()"
   ]
  },
  {
   "cell_type": "code",
   "execution_count": 4,
   "metadata": {
    "collapsed": true
   },
   "outputs": [],
   "source": [
    "data = data[data['cmp_code'] != '0']\n",
    "data = data[data['cmp_code'] != 'H']\n"
   ]
  },
  {
   "cell_type": "code",
   "execution_count": 5,
   "metadata": {
    "collapsed": false
   },
   "outputs": [
    {
     "data": {
      "text/plain": [
       "array(['0.0', '101.0', '102.0', '103.0', '104.0', '105.0', '106.0',\n",
       "       '107.0', '108.0', '109', '109.0', '110.0', '201.0', '202', '202.0',\n",
       "       '203', '203.0', '204.0', '301', '301.0', '302.0', '303', '303.0',\n",
       "       '304.0', '305', '305.0', '305.1', '401', '401.0', '402', '402.0',\n",
       "       '403.0', '404', '404.0', '405.0', '406', '406.0', '407.0', '408',\n",
       "       '408.0', '409', '409.0', '410', '410.0', '411', '411.0', '412',\n",
       "       '412.0', '413', '413.0', '414', '414.0', '415', '415.0', '416',\n",
       "       '416.0', '501', '501.0', '502', '502.0', '503', '503.0', '504',\n",
       "       '504.0', '505.0', '506', '506.0', '507.0', '601.0', '602.0', '603',\n",
       "       '603.0', '604.0', '605', '605.0', '605.1', '606.0', '607', '607.0',\n",
       "       '607.1', '608.0', '701', '701.0', '702', '702.0', '703.0', '704.0',\n",
       "       '705.0', '706', '706.0'], dtype=object)"
      ]
     },
     "execution_count": 5,
     "metadata": {},
     "output_type": "execute_result"
    }
   ],
   "source": [
    "np.unique(data['cmp_code'])"
   ]
  },
  {
   "cell_type": "code",
   "execution_count": 6,
   "metadata": {
    "collapsed": false
   },
   "outputs": [],
   "source": [
    "data['cmp_code'] = data['cmp_code'].astype(float)\n",
    "data['cmp_code'] = data['cmp_code'].astype(int)\n",
    "data['cmp_code'] = data['cmp_code'].astype(str)"
   ]
  },
  {
   "cell_type": "code",
   "execution_count": 7,
   "metadata": {
    "collapsed": false
   },
   "outputs": [
    {
     "data": {
      "text/plain": [
       "52041"
      ]
     },
     "execution_count": 7,
     "metadata": {},
     "output_type": "execute_result"
    }
   ],
   "source": [
    "len(data)"
   ]
  },
  {
   "cell_type": "code",
   "execution_count": 8,
   "metadata": {
    "collapsed": false
   },
   "outputs": [],
   "source": [
    "val = pd.read_csv(\"C:/Users/sherryyang/Desktop/1003pro/cmp-codebook.csv\")\n",
    "val =val.drop(['Unnamed: 3','Unnamed: 4'],axis =1)\n",
    "#df[1].fillna(0, inplace=True)"
   ]
  },
  {
   "cell_type": "code",
   "execution_count": 9,
   "metadata": {
    "collapsed": false
   },
   "outputs": [
    {
     "data": {
      "text/html": [
       "<div>\n",
       "<table border=\"1\" class=\"dataframe\">\n",
       "  <thead>\n",
       "    <tr style=\"text-align: right;\">\n",
       "      <th></th>\n",
       "      <th>code</th>\n",
       "      <th>topic</th>\n",
       "      <th>valence</th>\n",
       "    </tr>\n",
       "  </thead>\n",
       "  <tbody>\n",
       "    <tr>\n",
       "      <th>0</th>\n",
       "      <td>per101</td>\n",
       "      <td>foreign special</td>\n",
       "      <td>1</td>\n",
       "    </tr>\n",
       "    <tr>\n",
       "      <th>1</th>\n",
       "      <td>per102</td>\n",
       "      <td>foreign special</td>\n",
       "      <td>-1</td>\n",
       "    </tr>\n",
       "    <tr>\n",
       "      <th>2</th>\n",
       "      <td>per103</td>\n",
       "      <td>anti-imperalism</td>\n",
       "      <td>0</td>\n",
       "    </tr>\n",
       "    <tr>\n",
       "      <th>3</th>\n",
       "      <td>per104</td>\n",
       "      <td>military</td>\n",
       "      <td>1</td>\n",
       "    </tr>\n",
       "    <tr>\n",
       "      <th>4</th>\n",
       "      <td>per105</td>\n",
       "      <td>military</td>\n",
       "      <td>-1</td>\n",
       "    </tr>\n",
       "    <tr>\n",
       "      <th>5</th>\n",
       "      <td>per106</td>\n",
       "      <td>peace</td>\n",
       "      <td>0</td>\n",
       "    </tr>\n",
       "    <tr>\n",
       "      <th>6</th>\n",
       "      <td>per107</td>\n",
       "      <td>internationalism</td>\n",
       "      <td>1</td>\n",
       "    </tr>\n",
       "    <tr>\n",
       "      <th>7</th>\n",
       "      <td>per108</td>\n",
       "      <td>europe</td>\n",
       "      <td>1</td>\n",
       "    </tr>\n",
       "    <tr>\n",
       "      <th>8</th>\n",
       "      <td>per109</td>\n",
       "      <td>internationalism</td>\n",
       "      <td>-1</td>\n",
       "    </tr>\n",
       "    <tr>\n",
       "      <th>9</th>\n",
       "      <td>per110</td>\n",
       "      <td>europe</td>\n",
       "      <td>-1</td>\n",
       "    </tr>\n",
       "    <tr>\n",
       "      <th>10</th>\n",
       "      <td>per201</td>\n",
       "      <td>freedom &amp; human rights</td>\n",
       "      <td>0</td>\n",
       "    </tr>\n",
       "    <tr>\n",
       "      <th>11</th>\n",
       "      <td>per202</td>\n",
       "      <td>democracy</td>\n",
       "      <td>0</td>\n",
       "    </tr>\n",
       "    <tr>\n",
       "      <th>12</th>\n",
       "      <td>per203</td>\n",
       "      <td>constitution</td>\n",
       "      <td>1</td>\n",
       "    </tr>\n",
       "    <tr>\n",
       "      <th>13</th>\n",
       "      <td>per204</td>\n",
       "      <td>constitution</td>\n",
       "      <td>-1</td>\n",
       "    </tr>\n",
       "    <tr>\n",
       "      <th>14</th>\n",
       "      <td>per301</td>\n",
       "      <td>decentralisation</td>\n",
       "      <td>0</td>\n",
       "    </tr>\n",
       "    <tr>\n",
       "      <th>15</th>\n",
       "      <td>per302</td>\n",
       "      <td>centralisation</td>\n",
       "      <td>0</td>\n",
       "    </tr>\n",
       "    <tr>\n",
       "      <th>16</th>\n",
       "      <td>per303</td>\n",
       "      <td>gov-admin efficiency</td>\n",
       "      <td>0</td>\n",
       "    </tr>\n",
       "    <tr>\n",
       "      <th>17</th>\n",
       "      <td>per304</td>\n",
       "      <td>political corruption</td>\n",
       "      <td>0</td>\n",
       "    </tr>\n",
       "    <tr>\n",
       "      <th>18</th>\n",
       "      <td>per305</td>\n",
       "      <td>political authority</td>\n",
       "      <td>0</td>\n",
       "    </tr>\n",
       "    <tr>\n",
       "      <th>19</th>\n",
       "      <td>per401</td>\n",
       "      <td>free market economy</td>\n",
       "      <td>0</td>\n",
       "    </tr>\n",
       "    <tr>\n",
       "      <th>20</th>\n",
       "      <td>per402</td>\n",
       "      <td>incentives</td>\n",
       "      <td>0</td>\n",
       "    </tr>\n",
       "    <tr>\n",
       "      <th>21</th>\n",
       "      <td>per403</td>\n",
       "      <td>market regulation</td>\n",
       "      <td>0</td>\n",
       "    </tr>\n",
       "    <tr>\n",
       "      <th>22</th>\n",
       "      <td>per404</td>\n",
       "      <td>economic planning</td>\n",
       "      <td>0</td>\n",
       "    </tr>\n",
       "    <tr>\n",
       "      <th>23</th>\n",
       "      <td>per405</td>\n",
       "      <td>corporatism/mixed economy</td>\n",
       "      <td>0</td>\n",
       "    </tr>\n",
       "    <tr>\n",
       "      <th>24</th>\n",
       "      <td>per406</td>\n",
       "      <td>protectionism</td>\n",
       "      <td>1</td>\n",
       "    </tr>\n",
       "    <tr>\n",
       "      <th>25</th>\n",
       "      <td>per407</td>\n",
       "      <td>protectionism</td>\n",
       "      <td>-1</td>\n",
       "    </tr>\n",
       "    <tr>\n",
       "      <th>26</th>\n",
       "      <td>per408</td>\n",
       "      <td>economic goals</td>\n",
       "      <td>0</td>\n",
       "    </tr>\n",
       "    <tr>\n",
       "      <th>27</th>\n",
       "      <td>per409</td>\n",
       "      <td>keynesian demand management</td>\n",
       "      <td>0</td>\n",
       "    </tr>\n",
       "    <tr>\n",
       "      <th>28</th>\n",
       "      <td>per410</td>\n",
       "      <td>economic growth</td>\n",
       "      <td>1</td>\n",
       "    </tr>\n",
       "    <tr>\n",
       "      <th>29</th>\n",
       "      <td>per411</td>\n",
       "      <td>technology &amp; infrastructure</td>\n",
       "      <td>0</td>\n",
       "    </tr>\n",
       "    <tr>\n",
       "      <th>...</th>\n",
       "      <td>...</td>\n",
       "      <td>...</td>\n",
       "      <td>...</td>\n",
       "    </tr>\n",
       "    <tr>\n",
       "      <th>112</th>\n",
       "      <td>per201_1</td>\n",
       "      <td>sub2: freedom</td>\n",
       "      <td>0</td>\n",
       "    </tr>\n",
       "    <tr>\n",
       "      <th>113</th>\n",
       "      <td>per201_2</td>\n",
       "      <td>sub2: human rights</td>\n",
       "      <td>0</td>\n",
       "    </tr>\n",
       "    <tr>\n",
       "      <th>114</th>\n",
       "      <td>per202_1</td>\n",
       "      <td>sub2: democracy: general</td>\n",
       "      <td>1</td>\n",
       "    </tr>\n",
       "    <tr>\n",
       "      <th>115</th>\n",
       "      <td>per202_2</td>\n",
       "      <td>sub2: democracy: general</td>\n",
       "      <td>-1</td>\n",
       "    </tr>\n",
       "    <tr>\n",
       "      <th>116</th>\n",
       "      <td>per202_3</td>\n",
       "      <td>sub2: representative democracy</td>\n",
       "      <td>1</td>\n",
       "    </tr>\n",
       "    <tr>\n",
       "      <th>117</th>\n",
       "      <td>per202_4</td>\n",
       "      <td>sub2: direct democracy</td>\n",
       "      <td>1</td>\n",
       "    </tr>\n",
       "    <tr>\n",
       "      <th>118</th>\n",
       "      <td>per305_1</td>\n",
       "      <td>sub2: political authority: party competence</td>\n",
       "      <td>0</td>\n",
       "    </tr>\n",
       "    <tr>\n",
       "      <th>119</th>\n",
       "      <td>per305_2</td>\n",
       "      <td>sub2: political authority: personal competence</td>\n",
       "      <td>0</td>\n",
       "    </tr>\n",
       "    <tr>\n",
       "      <th>120</th>\n",
       "      <td>per305_3</td>\n",
       "      <td>sub2: political authority: strong government</td>\n",
       "      <td>0</td>\n",
       "    </tr>\n",
       "    <tr>\n",
       "      <th>121</th>\n",
       "      <td>per305_4</td>\n",
       "      <td>sub2: transition: pre-democratic elites</td>\n",
       "      <td>1</td>\n",
       "    </tr>\n",
       "    <tr>\n",
       "      <th>122</th>\n",
       "      <td>per305_5</td>\n",
       "      <td>sub2: transition: pre-democratic elites</td>\n",
       "      <td>-1</td>\n",
       "    </tr>\n",
       "    <tr>\n",
       "      <th>123</th>\n",
       "      <td>per305_6</td>\n",
       "      <td>sub2: transition: rehabilitation and compensation</td>\n",
       "      <td>0</td>\n",
       "    </tr>\n",
       "    <tr>\n",
       "      <th>124</th>\n",
       "      <td>per416_1</td>\n",
       "      <td>sub2: anti-growth economy</td>\n",
       "      <td>1</td>\n",
       "    </tr>\n",
       "    <tr>\n",
       "      <th>125</th>\n",
       "      <td>per416_2</td>\n",
       "      <td>sub2: sustainability</td>\n",
       "      <td>1</td>\n",
       "    </tr>\n",
       "    <tr>\n",
       "      <th>126</th>\n",
       "      <td>per601_1</td>\n",
       "      <td>sub2: national way of life: general</td>\n",
       "      <td>1</td>\n",
       "    </tr>\n",
       "    <tr>\n",
       "      <th>127</th>\n",
       "      <td>per601_2</td>\n",
       "      <td>sub2: national way of life: immigration</td>\n",
       "      <td>-1</td>\n",
       "    </tr>\n",
       "    <tr>\n",
       "      <th>128</th>\n",
       "      <td>per602_1</td>\n",
       "      <td>sub2: national way of life: general</td>\n",
       "      <td>-1</td>\n",
       "    </tr>\n",
       "    <tr>\n",
       "      <th>129</th>\n",
       "      <td>per602_2</td>\n",
       "      <td>sub2: national way of life: immigration</td>\n",
       "      <td>1</td>\n",
       "    </tr>\n",
       "    <tr>\n",
       "      <th>130</th>\n",
       "      <td>per605_1</td>\n",
       "      <td>sub2: law and order</td>\n",
       "      <td>1</td>\n",
       "    </tr>\n",
       "    <tr>\n",
       "      <th>131</th>\n",
       "      <td>per605_2</td>\n",
       "      <td>sub2: law and order</td>\n",
       "      <td>-1</td>\n",
       "    </tr>\n",
       "    <tr>\n",
       "      <th>132</th>\n",
       "      <td>per606_1</td>\n",
       "      <td>sub2: civic mindedness: general</td>\n",
       "      <td>1</td>\n",
       "    </tr>\n",
       "    <tr>\n",
       "      <th>133</th>\n",
       "      <td>per606_2</td>\n",
       "      <td>sub2: bottom-up activism</td>\n",
       "      <td>0</td>\n",
       "    </tr>\n",
       "    <tr>\n",
       "      <th>134</th>\n",
       "      <td>per607_1</td>\n",
       "      <td>sub2: multiculturalism: general</td>\n",
       "      <td>1</td>\n",
       "    </tr>\n",
       "    <tr>\n",
       "      <th>135</th>\n",
       "      <td>per607_2</td>\n",
       "      <td>sub2: multiculturalism: immigrants diversity</td>\n",
       "      <td>0</td>\n",
       "    </tr>\n",
       "    <tr>\n",
       "      <th>136</th>\n",
       "      <td>per607_3</td>\n",
       "      <td>sub2: multiculturalisn: indigenous rights</td>\n",
       "      <td>1</td>\n",
       "    </tr>\n",
       "    <tr>\n",
       "      <th>137</th>\n",
       "      <td>per608_1</td>\n",
       "      <td>sub2: multiculturalism: general</td>\n",
       "      <td>-1</td>\n",
       "    </tr>\n",
       "    <tr>\n",
       "      <th>138</th>\n",
       "      <td>per608_2</td>\n",
       "      <td>sub2: mulitculturalism: immigrants assimilation</td>\n",
       "      <td>0</td>\n",
       "    </tr>\n",
       "    <tr>\n",
       "      <th>139</th>\n",
       "      <td>per608_3</td>\n",
       "      <td>sub2: multiculturalism: indigenous rights</td>\n",
       "      <td>-1</td>\n",
       "    </tr>\n",
       "    <tr>\n",
       "      <th>140</th>\n",
       "      <td>per703_1</td>\n",
       "      <td>sub2: agriciulture and farmers</td>\n",
       "      <td>1</td>\n",
       "    </tr>\n",
       "    <tr>\n",
       "      <th>141</th>\n",
       "      <td>per703_2</td>\n",
       "      <td>sub2: agriciulture and farmers</td>\n",
       "      <td>-1</td>\n",
       "    </tr>\n",
       "  </tbody>\n",
       "</table>\n",
       "<p>142 rows × 3 columns</p>\n",
       "</div>"
      ],
      "text/plain": [
       "         code                                              topic valence\n",
       "0      per101                                    foreign special       1\n",
       "1      per102                                    foreign special      -1\n",
       "2      per103                                    anti-imperalism       0\n",
       "3      per104                                           military       1\n",
       "4      per105                                           military      -1\n",
       "5      per106                                              peace       0\n",
       "6      per107                                   internationalism       1\n",
       "7      per108                                             europe       1\n",
       "8      per109                                   internationalism      -1\n",
       "9      per110                                             europe      -1\n",
       "10     per201                             freedom & human rights       0\n",
       "11     per202                                          democracy       0\n",
       "12     per203                                       constitution       1\n",
       "13     per204                                       constitution      -1\n",
       "14     per301                                   decentralisation       0\n",
       "15     per302                                     centralisation       0\n",
       "16     per303                               gov-admin efficiency       0\n",
       "17     per304                               political corruption       0\n",
       "18     per305                                political authority       0\n",
       "19     per401                                free market economy       0\n",
       "20     per402                                         incentives       0\n",
       "21     per403                                  market regulation       0\n",
       "22     per404                                  economic planning       0\n",
       "23     per405                          corporatism/mixed economy       0\n",
       "24     per406                                      protectionism       1\n",
       "25     per407                                      protectionism      -1\n",
       "26     per408                                     economic goals       0\n",
       "27     per409                        keynesian demand management       0\n",
       "28     per410                                    economic growth       1\n",
       "29     per411                        technology & infrastructure       0\n",
       "..        ...                                                ...     ...\n",
       "112  per201_1                                      sub2: freedom       0\n",
       "113  per201_2                                 sub2: human rights       0\n",
       "114  per202_1                           sub2: democracy: general       1\n",
       "115  per202_2                           sub2: democracy: general      -1\n",
       "116  per202_3                     sub2: representative democracy       1\n",
       "117  per202_4                             sub2: direct democracy       1\n",
       "118  per305_1        sub2: political authority: party competence       0\n",
       "119  per305_2     sub2: political authority: personal competence       0\n",
       "120  per305_3       sub2: political authority: strong government       0\n",
       "121  per305_4            sub2: transition: pre-democratic elites       1\n",
       "122  per305_5            sub2: transition: pre-democratic elites      -1\n",
       "123  per305_6  sub2: transition: rehabilitation and compensation       0\n",
       "124  per416_1                          sub2: anti-growth economy       1\n",
       "125  per416_2                               sub2: sustainability       1\n",
       "126  per601_1                sub2: national way of life: general       1\n",
       "127  per601_2            sub2: national way of life: immigration      -1\n",
       "128  per602_1                sub2: national way of life: general      -1\n",
       "129  per602_2            sub2: national way of life: immigration       1\n",
       "130  per605_1                                sub2: law and order       1\n",
       "131  per605_2                                sub2: law and order      -1\n",
       "132  per606_1                    sub2: civic mindedness: general       1\n",
       "133  per606_2                           sub2: bottom-up activism       0\n",
       "134  per607_1                    sub2: multiculturalism: general       1\n",
       "135  per607_2       sub2: multiculturalism: immigrants diversity       0\n",
       "136  per607_3          sub2: multiculturalisn: indigenous rights       1\n",
       "137  per608_1                    sub2: multiculturalism: general      -1\n",
       "138  per608_2    sub2: mulitculturalism: immigrants assimilation       0\n",
       "139  per608_3          sub2: multiculturalism: indigenous rights      -1\n",
       "140  per703_1                     sub2: agriciulture and farmers       1\n",
       "141  per703_2                     sub2: agriciulture and farmers      -1\n",
       "\n",
       "[142 rows x 3 columns]"
      ]
     },
     "execution_count": 9,
     "metadata": {},
     "output_type": "execute_result"
    }
   ],
   "source": [
    "val['valence'].fillna(0, inplace =True)\n",
    "# val['valence'].apply(lambda x: x =\"1\" if x ='+')\n",
    "for i in range(len(val)):\n",
    "    if val['valence'][i] ==\"+\":\n",
    "        val['valence'][i] =1\n",
    "    elif val['valence'][i] =='-':\n",
    "        val['valence'][i] =-1\n",
    "val"
   ]
  },
  {
   "cell_type": "code",
   "execution_count": 10,
   "metadata": {
    "collapsed": false
   },
   "outputs": [],
   "source": [
    "drop = []\n",
    "for j in range(len(val)):\n",
    "    if len(val['code'][j])==6:\n",
    "        val['code'][j] = val['code'][j][3:]\n",
    "    else:\n",
    "        drop.append(j)\n",
    "        \n",
    "\n",
    "val.drop(val.index[drop],inplace =True)\n",
    "\n",
    "        \n",
    "        \n",
    "        \n",
    "    \n",
    "    "
   ]
  },
  {
   "cell_type": "code",
   "execution_count": 11,
   "metadata": {
    "collapsed": false
   },
   "outputs": [
    {
     "data": {
      "text/html": [
       "<div>\n",
       "<table border=\"1\" class=\"dataframe\">\n",
       "  <thead>\n",
       "    <tr style=\"text-align: right;\">\n",
       "      <th></th>\n",
       "      <th>cmp_code</th>\n",
       "      <th>topic</th>\n",
       "      <th>valence</th>\n",
       "    </tr>\n",
       "  </thead>\n",
       "  <tbody>\n",
       "    <tr>\n",
       "      <th>0</th>\n",
       "      <td>101</td>\n",
       "      <td>foreign special</td>\n",
       "      <td>1</td>\n",
       "    </tr>\n",
       "    <tr>\n",
       "      <th>1</th>\n",
       "      <td>102</td>\n",
       "      <td>foreign special</td>\n",
       "      <td>-1</td>\n",
       "    </tr>\n",
       "    <tr>\n",
       "      <th>2</th>\n",
       "      <td>103</td>\n",
       "      <td>anti-imperalism</td>\n",
       "      <td>0</td>\n",
       "    </tr>\n",
       "    <tr>\n",
       "      <th>3</th>\n",
       "      <td>104</td>\n",
       "      <td>military</td>\n",
       "      <td>1</td>\n",
       "    </tr>\n",
       "    <tr>\n",
       "      <th>4</th>\n",
       "      <td>105</td>\n",
       "      <td>military</td>\n",
       "      <td>-1</td>\n",
       "    </tr>\n",
       "    <tr>\n",
       "      <th>5</th>\n",
       "      <td>106</td>\n",
       "      <td>peace</td>\n",
       "      <td>0</td>\n",
       "    </tr>\n",
       "    <tr>\n",
       "      <th>6</th>\n",
       "      <td>107</td>\n",
       "      <td>internationalism</td>\n",
       "      <td>1</td>\n",
       "    </tr>\n",
       "    <tr>\n",
       "      <th>7</th>\n",
       "      <td>108</td>\n",
       "      <td>europe</td>\n",
       "      <td>1</td>\n",
       "    </tr>\n",
       "    <tr>\n",
       "      <th>8</th>\n",
       "      <td>109</td>\n",
       "      <td>internationalism</td>\n",
       "      <td>-1</td>\n",
       "    </tr>\n",
       "    <tr>\n",
       "      <th>9</th>\n",
       "      <td>110</td>\n",
       "      <td>europe</td>\n",
       "      <td>-1</td>\n",
       "    </tr>\n",
       "    <tr>\n",
       "      <th>10</th>\n",
       "      <td>201</td>\n",
       "      <td>freedom &amp; human rights</td>\n",
       "      <td>0</td>\n",
       "    </tr>\n",
       "    <tr>\n",
       "      <th>11</th>\n",
       "      <td>202</td>\n",
       "      <td>democracy</td>\n",
       "      <td>0</td>\n",
       "    </tr>\n",
       "    <tr>\n",
       "      <th>12</th>\n",
       "      <td>203</td>\n",
       "      <td>constitution</td>\n",
       "      <td>1</td>\n",
       "    </tr>\n",
       "    <tr>\n",
       "      <th>13</th>\n",
       "      <td>204</td>\n",
       "      <td>constitution</td>\n",
       "      <td>-1</td>\n",
       "    </tr>\n",
       "    <tr>\n",
       "      <th>14</th>\n",
       "      <td>301</td>\n",
       "      <td>decentralisation</td>\n",
       "      <td>0</td>\n",
       "    </tr>\n",
       "    <tr>\n",
       "      <th>15</th>\n",
       "      <td>302</td>\n",
       "      <td>centralisation</td>\n",
       "      <td>0</td>\n",
       "    </tr>\n",
       "    <tr>\n",
       "      <th>16</th>\n",
       "      <td>303</td>\n",
       "      <td>gov-admin efficiency</td>\n",
       "      <td>0</td>\n",
       "    </tr>\n",
       "    <tr>\n",
       "      <th>17</th>\n",
       "      <td>304</td>\n",
       "      <td>political corruption</td>\n",
       "      <td>0</td>\n",
       "    </tr>\n",
       "    <tr>\n",
       "      <th>18</th>\n",
       "      <td>305</td>\n",
       "      <td>political authority</td>\n",
       "      <td>0</td>\n",
       "    </tr>\n",
       "    <tr>\n",
       "      <th>19</th>\n",
       "      <td>401</td>\n",
       "      <td>free market economy</td>\n",
       "      <td>0</td>\n",
       "    </tr>\n",
       "    <tr>\n",
       "      <th>20</th>\n",
       "      <td>402</td>\n",
       "      <td>incentives</td>\n",
       "      <td>0</td>\n",
       "    </tr>\n",
       "    <tr>\n",
       "      <th>21</th>\n",
       "      <td>403</td>\n",
       "      <td>market regulation</td>\n",
       "      <td>0</td>\n",
       "    </tr>\n",
       "    <tr>\n",
       "      <th>22</th>\n",
       "      <td>404</td>\n",
       "      <td>economic planning</td>\n",
       "      <td>0</td>\n",
       "    </tr>\n",
       "    <tr>\n",
       "      <th>23</th>\n",
       "      <td>405</td>\n",
       "      <td>corporatism/mixed economy</td>\n",
       "      <td>0</td>\n",
       "    </tr>\n",
       "    <tr>\n",
       "      <th>24</th>\n",
       "      <td>406</td>\n",
       "      <td>protectionism</td>\n",
       "      <td>1</td>\n",
       "    </tr>\n",
       "    <tr>\n",
       "      <th>25</th>\n",
       "      <td>407</td>\n",
       "      <td>protectionism</td>\n",
       "      <td>-1</td>\n",
       "    </tr>\n",
       "    <tr>\n",
       "      <th>26</th>\n",
       "      <td>408</td>\n",
       "      <td>economic goals</td>\n",
       "      <td>0</td>\n",
       "    </tr>\n",
       "    <tr>\n",
       "      <th>27</th>\n",
       "      <td>409</td>\n",
       "      <td>keynesian demand management</td>\n",
       "      <td>0</td>\n",
       "    </tr>\n",
       "    <tr>\n",
       "      <th>28</th>\n",
       "      <td>410</td>\n",
       "      <td>economic growth</td>\n",
       "      <td>1</td>\n",
       "    </tr>\n",
       "    <tr>\n",
       "      <th>29</th>\n",
       "      <td>411</td>\n",
       "      <td>technology &amp; infrastructure</td>\n",
       "      <td>0</td>\n",
       "    </tr>\n",
       "    <tr>\n",
       "      <th>30</th>\n",
       "      <td>412</td>\n",
       "      <td>controlled economy</td>\n",
       "      <td>0</td>\n",
       "    </tr>\n",
       "    <tr>\n",
       "      <th>31</th>\n",
       "      <td>413</td>\n",
       "      <td>nationalisation</td>\n",
       "      <td>0</td>\n",
       "    </tr>\n",
       "    <tr>\n",
       "      <th>32</th>\n",
       "      <td>414</td>\n",
       "      <td>economic orthodoxy</td>\n",
       "      <td>0</td>\n",
       "    </tr>\n",
       "    <tr>\n",
       "      <th>33</th>\n",
       "      <td>415</td>\n",
       "      <td>marxist analysis</td>\n",
       "      <td>1</td>\n",
       "    </tr>\n",
       "    <tr>\n",
       "      <th>34</th>\n",
       "      <td>416</td>\n",
       "      <td>anti-growth economy</td>\n",
       "      <td>1</td>\n",
       "    </tr>\n",
       "    <tr>\n",
       "      <th>35</th>\n",
       "      <td>501</td>\n",
       "      <td>environmentalism</td>\n",
       "      <td>1</td>\n",
       "    </tr>\n",
       "    <tr>\n",
       "      <th>36</th>\n",
       "      <td>502</td>\n",
       "      <td>culture</td>\n",
       "      <td>1</td>\n",
       "    </tr>\n",
       "    <tr>\n",
       "      <th>37</th>\n",
       "      <td>503</td>\n",
       "      <td>equality</td>\n",
       "      <td>1</td>\n",
       "    </tr>\n",
       "    <tr>\n",
       "      <th>38</th>\n",
       "      <td>504</td>\n",
       "      <td>welfare</td>\n",
       "      <td>1</td>\n",
       "    </tr>\n",
       "    <tr>\n",
       "      <th>39</th>\n",
       "      <td>505</td>\n",
       "      <td>welfare</td>\n",
       "      <td>-1</td>\n",
       "    </tr>\n",
       "    <tr>\n",
       "      <th>40</th>\n",
       "      <td>506</td>\n",
       "      <td>education</td>\n",
       "      <td>1</td>\n",
       "    </tr>\n",
       "    <tr>\n",
       "      <th>41</th>\n",
       "      <td>507</td>\n",
       "      <td>education</td>\n",
       "      <td>-1</td>\n",
       "    </tr>\n",
       "    <tr>\n",
       "      <th>42</th>\n",
       "      <td>601</td>\n",
       "      <td>national way of life</td>\n",
       "      <td>1</td>\n",
       "    </tr>\n",
       "    <tr>\n",
       "      <th>43</th>\n",
       "      <td>602</td>\n",
       "      <td>national way of life</td>\n",
       "      <td>-1</td>\n",
       "    </tr>\n",
       "    <tr>\n",
       "      <th>44</th>\n",
       "      <td>603</td>\n",
       "      <td>traditional morality</td>\n",
       "      <td>1</td>\n",
       "    </tr>\n",
       "    <tr>\n",
       "      <th>45</th>\n",
       "      <td>604</td>\n",
       "      <td>traditional morality</td>\n",
       "      <td>-1</td>\n",
       "    </tr>\n",
       "    <tr>\n",
       "      <th>46</th>\n",
       "      <td>605</td>\n",
       "      <td>law and order</td>\n",
       "      <td>1</td>\n",
       "    </tr>\n",
       "    <tr>\n",
       "      <th>47</th>\n",
       "      <td>606</td>\n",
       "      <td>civic mindedness</td>\n",
       "      <td>1</td>\n",
       "    </tr>\n",
       "    <tr>\n",
       "      <th>48</th>\n",
       "      <td>607</td>\n",
       "      <td>multiculturalism</td>\n",
       "      <td>1</td>\n",
       "    </tr>\n",
       "    <tr>\n",
       "      <th>49</th>\n",
       "      <td>608</td>\n",
       "      <td>multiculturalism</td>\n",
       "      <td>-1</td>\n",
       "    </tr>\n",
       "    <tr>\n",
       "      <th>50</th>\n",
       "      <td>701</td>\n",
       "      <td>labour groups</td>\n",
       "      <td>1</td>\n",
       "    </tr>\n",
       "    <tr>\n",
       "      <th>51</th>\n",
       "      <td>702</td>\n",
       "      <td>labour groups</td>\n",
       "      <td>-1</td>\n",
       "    </tr>\n",
       "    <tr>\n",
       "      <th>52</th>\n",
       "      <td>703</td>\n",
       "      <td>agriculture</td>\n",
       "      <td>1</td>\n",
       "    </tr>\n",
       "    <tr>\n",
       "      <th>53</th>\n",
       "      <td>704</td>\n",
       "      <td>middle class and prof. groups</td>\n",
       "      <td>0</td>\n",
       "    </tr>\n",
       "    <tr>\n",
       "      <th>54</th>\n",
       "      <td>705</td>\n",
       "      <td>minority groups</td>\n",
       "      <td>0</td>\n",
       "    </tr>\n",
       "    <tr>\n",
       "      <th>55</th>\n",
       "      <td>706</td>\n",
       "      <td>non-economic demographic groups</td>\n",
       "      <td>0</td>\n",
       "    </tr>\n",
       "  </tbody>\n",
       "</table>\n",
       "</div>"
      ],
      "text/plain": [
       "   cmp_code                            topic valence\n",
       "0       101                  foreign special       1\n",
       "1       102                  foreign special      -1\n",
       "2       103                  anti-imperalism       0\n",
       "3       104                         military       1\n",
       "4       105                         military      -1\n",
       "5       106                            peace       0\n",
       "6       107                 internationalism       1\n",
       "7       108                           europe       1\n",
       "8       109                 internationalism      -1\n",
       "9       110                           europe      -1\n",
       "10      201           freedom & human rights       0\n",
       "11      202                        democracy       0\n",
       "12      203                     constitution       1\n",
       "13      204                     constitution      -1\n",
       "14      301                 decentralisation       0\n",
       "15      302                   centralisation       0\n",
       "16      303             gov-admin efficiency       0\n",
       "17      304             political corruption       0\n",
       "18      305              political authority       0\n",
       "19      401              free market economy       0\n",
       "20      402                       incentives       0\n",
       "21      403                market regulation       0\n",
       "22      404                economic planning       0\n",
       "23      405        corporatism/mixed economy       0\n",
       "24      406                    protectionism       1\n",
       "25      407                    protectionism      -1\n",
       "26      408                   economic goals       0\n",
       "27      409      keynesian demand management       0\n",
       "28      410                  economic growth       1\n",
       "29      411      technology & infrastructure       0\n",
       "30      412               controlled economy       0\n",
       "31      413                  nationalisation       0\n",
       "32      414               economic orthodoxy       0\n",
       "33      415                 marxist analysis       1\n",
       "34      416              anti-growth economy       1\n",
       "35      501                 environmentalism       1\n",
       "36      502                          culture       1\n",
       "37      503                         equality       1\n",
       "38      504                          welfare       1\n",
       "39      505                          welfare      -1\n",
       "40      506                        education       1\n",
       "41      507                        education      -1\n",
       "42      601             national way of life       1\n",
       "43      602             national way of life      -1\n",
       "44      603             traditional morality       1\n",
       "45      604             traditional morality      -1\n",
       "46      605                    law and order       1\n",
       "47      606                 civic mindedness       1\n",
       "48      607                 multiculturalism       1\n",
       "49      608                 multiculturalism      -1\n",
       "50      701                    labour groups       1\n",
       "51      702                    labour groups      -1\n",
       "52      703                      agriculture       1\n",
       "53      704    middle class and prof. groups       0\n",
       "54      705                  minority groups       0\n",
       "55      706  non-economic demographic groups       0"
      ]
     },
     "execution_count": 11,
     "metadata": {},
     "output_type": "execute_result"
    }
   ],
   "source": [
    "val = val.rename(columns ={'code':'cmp_code'})\n",
    "val"
   ]
  },
  {
   "cell_type": "code",
   "execution_count": 12,
   "metadata": {
    "collapsed": false
   },
   "outputs": [
    {
     "data": {
      "text/plain": [
       " 1    24058\n",
       " 0    18221\n",
       "-1     1745\n",
       "Name: valence, dtype: int64"
      ]
     },
     "execution_count": 12,
     "metadata": {},
     "output_type": "execute_result"
    }
   ],
   "source": [
    "# result = pd.concat([data, val], axis=1)\n",
    "result =pd.merge(data, val, on='cmp_code')\n",
    "result['valence'].value_counts()"
   ]
  },
  {
   "cell_type": "code",
   "execution_count": 13,
   "metadata": {
    "collapsed": false
   },
   "outputs": [],
   "source": [
    "\n",
    "result = result[['text','valence']]\n",
    "result['valence'] = result['valence'].astype(str)"
   ]
  },
  {
   "cell_type": "code",
   "execution_count": 14,
   "metadata": {
    "collapsed": false
   },
   "outputs": [],
   "source": [
    "\n",
    "result = shuffle(result)\n",
    "X = result['text']\n",
    "Y = result['valence']\n"
   ]
  },
  {
   "cell_type": "code",
   "execution_count": 15,
   "metadata": {
    "collapsed": true
   },
   "outputs": [],
   "source": [
    "X_train, X_test, Y_train, Y_test = train_test_split(X, Y, train_size = .75)"
   ]
  },
  {
   "cell_type": "code",
   "execution_count": 56,
   "metadata": {
    "collapsed": false
   },
   "outputs": [],
   "source": [
    "from sklearn.feature_extraction.text import CountVectorizer\n",
    "from sklearn.feature_extraction.text import TfidfVectorizer\n",
    "\n",
    "# binary_vectorizer = CountVectorizer(stop_words = \"english\", ngram_range=(1, 2), binary = True)\n",
    "# binary_vectorizer.fit(X_train)\n",
    "# X_train_binary = binary_vectorizer.transform(X_train)\n",
    "# X_test_binary = binary_vectorizer.transform(X_test)\n",
    "\n",
    "tfidf_vectorizer = TfidfVectorizer( stop_words='english', use_idf=True, ngram_range=(1,3))\n",
    "tfidf_vectorizer.fit(X_train)\n",
    "X_train_tfidf = tfidf_vectorizer.transform(X_train)\n",
    "X_test_tfidf = tfidf_vectorizer.transform(X_test)"
   ]
  },
  {
   "cell_type": "code",
   "execution_count": 35,
   "metadata": {
    "collapsed": false
   },
   "outputs": [
    {
     "data": {
      "text/plain": [
       "(33018, 446861)"
      ]
     },
     "execution_count": 35,
     "metadata": {},
     "output_type": "execute_result"
    }
   ],
   "source": [
    "X_train_tfidf.shape"
   ]
  },
  {
   "cell_type": "code",
   "execution_count": 57,
   "metadata": {
    "collapsed": false
   },
   "outputs": [
    {
     "data": {
      "text/plain": [
       "0.72433218244593855"
      ]
     },
     "execution_count": 57,
     "metadata": {},
     "output_type": "execute_result"
    }
   ],
   "source": [
    "lin_clf = LinearSVC(class_weight ='balanced')\n",
    "lin_clf.fit(X_train_tfidf,Y_train).score(X_test_tfidf, Y_test)\n",
    "#param_grid = {'C':[0.1,1, 10], 'class_weight':[None,'balanced'] }\n",
    "#CV_clf = GridSearchCV(estimator=lin_clf, param_grid=param_grid)\n",
    "#CV_clf.fit(X_train_tfidf, Y_train)"
   ]
  },
  {
   "cell_type": "code",
   "execution_count": 20,
   "metadata": {
    "collapsed": false
   },
   "outputs": [
    {
     "data": {
      "text/plain": [
       "array([[-1.09254378,  0.08879213, -0.03011342],\n",
       "       [-0.91115553, -0.30053733,  0.22246471],\n",
       "       [-1.07553406,  0.2397125 , -0.2011033 ],\n",
       "       ..., \n",
       "       [-1.1607784 ,  0.02776092,  0.08815572],\n",
       "       [-1.00331298,  0.14597978, -0.18281746],\n",
       "       [-1.30988294,  0.09207247, -0.0259733 ]])"
      ]
     },
     "execution_count": 20,
     "metadata": {},
     "output_type": "execute_result"
    }
   ],
   "source": [
    "lin_clf.decision_function(X_test_tfidf)"
   ]
  },
  {
   "cell_type": "code",
   "execution_count": 21,
   "metadata": {
    "collapsed": false
   },
   "outputs": [
    {
     "data": {
      "text/plain": [
       "SVR(C=1.0, cache_size=200, coef0=0.0, degree=3, epsilon=0.1, gamma='auto',\n",
       "  kernel='rbf', max_iter=-1, shrinking=True, tol=0.001, verbose=False)"
      ]
     },
     "execution_count": 21,
     "metadata": {},
     "output_type": "execute_result"
    }
   ],
   "source": [
    "from sklearn import svm\n",
    "clf = svm.SVR()\n",
    "clf.fit(X_train_tfidf,Y_train)"
   ]
  },
  {
   "cell_type": "code",
   "execution_count": 26,
   "metadata": {
    "collapsed": false
   },
   "outputs": [
    {
     "name": "stdout",
     "output_type": "stream",
     "text": [
      "[ 0.89996236  0.89996229  0.89991298 ...,  0.89996804  0.8999689\n",
      "  0.89997745]\n"
     ]
    }
   ],
   "source": [
    "print(clf.predict(X_test_tfidf))"
   ]
  },
  {
   "cell_type": "code",
   "execution_count": 42,
   "metadata": {
    "collapsed": true
   },
   "outputs": [],
   "source": [
    "from sklearn.ensemble import RandomForestClassifier\n",
    "rf = RandomForestClassifier(n_estimators =50, max_features='auto')\n",
    "rfc =rf.fit(X_train_tfidf,Y_train)\n",
    "rf_pro =rfc.predict_proba(X_test_tfidf)\n"
   ]
  },
  {
   "cell_type": "code",
   "execution_count": 43,
   "metadata": {
    "collapsed": false
   },
   "outputs": [
    {
     "data": {
      "text/plain": [
       "array([[ 0.06      ,  0.56      ,  0.38      ],\n",
       "       [ 0.06      ,  0.51909309,  0.42090691],\n",
       "       [ 0.        ,  0.92      ,  0.08      ],\n",
       "       ..., \n",
       "       [ 0.        ,  0.46      ,  0.54      ],\n",
       "       [ 0.        ,  0.44888889,  0.55111111],\n",
       "       [ 0.        ,  0.53333333,  0.46666667]])"
      ]
     },
     "execution_count": 43,
     "metadata": {},
     "output_type": "execute_result"
    }
   ],
   "source": [
    "rf_pro"
   ]
  },
  {
   "cell_type": "code",
   "execution_count": 44,
   "metadata": {
    "collapsed": false
   },
   "outputs": [
    {
     "data": {
      "text/plain": [
       "0.69952753043794291"
      ]
     },
     "execution_count": 44,
     "metadata": {},
     "output_type": "execute_result"
    }
   ],
   "source": [
    "rfc.score(X_test_tfidf, Y_test)"
   ]
  },
  {
   "cell_type": "code",
   "execution_count": 52,
   "metadata": {
    "collapsed": true
   },
   "outputs": [],
   "source": [
    "from sklearn.ensemble import RandomForestClassifier\n",
    "rf = RandomForestClassifier(n_estimators =100, max_features='auto')\n",
    "rfc_100 =rf.fit(X_train_tfidf,Y_train)\n",
    "rf_pro =rfc_100.predict_proba(X_test_tfidf)\n"
   ]
  },
  {
   "cell_type": "code",
   "execution_count": 54,
   "metadata": {
    "collapsed": false
   },
   "outputs": [
    {
     "data": {
      "text/plain": [
       "0.7006178448119208"
      ]
     },
     "execution_count": 54,
     "metadata": {},
     "output_type": "execute_result"
    }
   ],
   "source": [
    "rfc_100.score(X_test_tfidf,Y_test)"
   ]
  },
  {
   "cell_type": "code",
   "execution_count": 45,
   "metadata": {
    "collapsed": true
   },
   "outputs": [],
   "source": [
    "binary_vectorizer = CountVectorizer(stop_words = \"english\", ngram_range=(1, 3), binary = True,)\n",
    "binary_vectorizer.fit(X_train)\n",
    "X_train_binary = binary_vectorizer.transform(X_train)\n",
    "X_test_binary = binary_vectorizer.transform(X_test)"
   ]
  },
  {
   "cell_type": "code",
   "execution_count": 59,
   "metadata": {
    "collapsed": false
   },
   "outputs": [
    {
     "data": {
      "text/plain": [
       "0.72469562057059789"
      ]
     },
     "execution_count": 59,
     "metadata": {},
     "output_type": "execute_result"
    }
   ],
   "source": [
    "from sklearn.calibration import CalibratedClassifierCV\n",
    "lin_clf = CalibratedClassifierCV(LinearSVC())\n",
    "blf =lin_clf.fit(X_train_tfidf,Y_train)\n",
    "blf.score(X_test_tfidf, Y_test)"
   ]
  },
  {
   "cell_type": "code",
   "execution_count": 60,
   "metadata": {
    "collapsed": false
   },
   "outputs": [
    {
     "data": {
      "text/plain": [
       "array([[ 0.00959324,  0.57801026,  0.41239649],\n",
       "       [ 0.03274763,  0.31166448,  0.65558789],\n",
       "       [ 0.01118203,  0.67732687,  0.3114911 ],\n",
       "       ..., \n",
       "       [ 0.00766915,  0.43677964,  0.55555121],\n",
       "       [ 0.01872558,  0.55020037,  0.43107405],\n",
       "       [ 0.00335023,  0.50761484,  0.48903493]])"
      ]
     },
     "execution_count": 60,
     "metadata": {},
     "output_type": "execute_result"
    }
   ],
   "source": [
    "blf.predict_proba(X_test_tfidf)"
   ]
  },
  {
   "cell_type": "code",
   "execution_count": null,
   "metadata": {
    "collapsed": true
   },
   "outputs": [],
   "source": []
  }
 ],
 "metadata": {
  "kernelspec": {
   "display_name": "Python 3",
   "language": "python",
   "name": "python3"
  },
  "language_info": {
   "codemirror_mode": {
    "name": "ipython",
    "version": 3
   },
   "file_extension": ".py",
   "mimetype": "text/x-python",
   "name": "python",
   "nbconvert_exporter": "python",
   "pygments_lexer": "ipython3",
   "version": "3.6.0"
  }
 },
 "nbformat": 4,
 "nbformat_minor": 2
}
